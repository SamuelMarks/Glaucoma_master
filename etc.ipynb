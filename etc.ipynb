{
 "cells": [
  {
   "cell_type": "code",
   "execution_count": 1,
   "metadata": {},
   "outputs": [],
   "source": [
    "import numpy as np\n",
    "import tensorflow as tf\n",
    "import sys\n",
    "import matplotlib.pyplot as plt\n",
    "sys.path = [\"C:\\\\Users\\\\infinigru\\\\Anaconda3\\\\envs\\\\prac\\\\lib\\\\site-packages\"] + sys.path\n",
    "# from train_generator import batch_iterator, random_rotate, random_image_shift\n",
    "# from utils.util import train_progressbar, slack_message\n",
    "from config import TRAIN_FILE, TEST_FILE\n",
    "import os\n",
    "import random"
   ]
  },
  {
   "cell_type": "code",
   "execution_count": 25,
   "metadata": {},
   "outputs": [],
   "source": [
    "def parse_tfrecord(record):\n",
    "\n",
    "    keys_to_features = {\n",
    "        'height': tf.FixedLenFeature((), tf.int64),\n",
    "        'width': tf.FixedLenFeature((), tf.int64),\n",
    "        'image/raw': tf.FixedLenFeature((), tf.string),\n",
    "        'label': tf.FixedLenFeature((), tf.string),\n",
    "    }\n",
    "\n",
    "    features = tf.parse_single_example(record, features=keys_to_features)\n",
    "    height = tf.cast(features['height'], tf.int64)\n",
    "    width = tf.cast(features['width'], tf.int64)\n",
    "    image = tf.cast(features['image/raw'], tf.string)\n",
    "    label = tf.cast(features['label'], tf.string)\n",
    "\n",
    "    image = tf.decode_raw(image, tf.float64)\n",
    "    image = tf.reshape(image, shape=[height, width, -1])\n",
    "    \n",
    "    label = tf.decode_raw(label, tf.int32)\n",
    "    label = tf.reshape(label, shape=[10,])\n",
    "\n",
    "    return image, label"
   ]
  },
  {
   "cell_type": "code",
   "execution_count": 64,
   "metadata": {},
   "outputs": [],
   "source": [
    "rand_num = tf.placeholder('float32', name='rand_num')"
   ]
  },
  {
   "cell_type": "code",
   "execution_count": 4,
   "metadata": {},
   "outputs": [],
   "source": [
    "# ? tf.contrib.image.rotate"
   ]
  },
  {
   "cell_type": "code",
   "execution_count": 5,
   "metadata": {},
   "outputs": [],
   "source": [
    "# from tensorflow.python.ops import random_ops\n",
    "# def random_rotate(image,label):\n",
    "#     rotate_angle = random.choice(range(0,180,10))\n",
    "#     print(random_ops.random_uniform([], 0, 1.0, seed=42))\n",
    "#     image = tf.contrib.image.rotate(image,\n",
    "#                             rotate_angle,\n",
    "#                             interpolation='NEAREST')\n",
    "#     image = rotate(image ,rotate_angle ,reshape=False ,mode='reflect')\n",
    "#     return image, label"
   ]
  },
  {
   "cell_type": "code",
   "execution_count": 91,
   "metadata": {},
   "outputs": [
    {
     "name": "stdout",
     "output_type": "stream",
     "text": [
      "Tensor(\"random_uniform:0\", shape=(), dtype=float32)\n"
     ]
    }
   ],
   "source": [
    "print(random_ops.random_uniform([], 0, 1.0, seed=42))"
   ]
  },
  {
   "cell_type": "code",
   "execution_count": 128,
   "metadata": {},
   "outputs": [],
   "source": [
    "def random_rotate(image):\n",
    "    rotate_angle = tf.random.uniform([],0,100)\n",
    "    image = tf.contrib.image.rotate(image,\n",
    "                            rotate_angle,\n",
    "                            interpolation='NEAREST')\n",
    "#     image = rotate(image ,rotate_angle ,reshape=False ,mode='reflect')\n",
    "    return image"
   ]
  },
  {
   "cell_type": "code",
   "execution_count": 129,
   "metadata": {},
   "outputs": [],
   "source": [
    "def random_image_shift(image):\n",
    "    tx = tf.random.shuffle([-1,0,1])\n",
    "    ty = tf.random.shuffle([-1,0,1])\n",
    "    transforms = [1, 0, tx[0], 0, 1, ty[0], 0, 0]\n",
    "    image = tf.contrib.image.transform(image, transforms, interpolation='NEAREST')\n",
    "#     image = shift(image,shift =[tx,ty,0])\n",
    "    return image"
   ]
  },
  {
   "cell_type": "code",
   "execution_count": 130,
   "metadata": {},
   "outputs": [],
   "source": [
    "def preprocess_image(image,label):\n",
    "    image = random_rotate(image)\n",
    "    image = random_image_shift(image)\n",
    "    return image,label"
   ]
  },
  {
   "cell_type": "code",
   "execution_count": 131,
   "metadata": {},
   "outputs": [
    {
     "name": "stdout",
     "output_type": "stream",
     "text": [
      "1\n"
     ]
    }
   ],
   "source": [
    "rand_num = trotate_angle = tf.math.multiply(tf.math.round(tf.random.uniform([],0,18)),10)\n",
    "\n",
    "with tf.Session() as sess:\n",
    "    sess.run(tf.global_variables_initializer())\n",
    "    num = sess.run(choice)\n",
    "    print(num[0])"
   ]
  },
  {
   "cell_type": "code",
   "execution_count": 132,
   "metadata": {},
   "outputs": [],
   "source": [
    "def batch_iterator(infile , batch_size, training, shuffle):\n",
    "    if os.path.isfile(infile) is False:\n",
    "        raise FileNotFoundError(infile, 'not exist')\n",
    "    \n",
    "    dataset = tf.data.TFRecordDataset(infile)\n",
    "    dataset = dataset.map(parse_tfrecord)        \n",
    "    if training:\n",
    "#         for aug_func in augmentation:\n",
    "        dataset = dataset.map(preprocess_image, num_parallel_calls = -1) #tf.data.experimental.AUTOTUNE\n",
    "        dataset = dataset.repeat()\n",
    "        if shuffle:\n",
    "            dataset = dataset.shuffle(100000)\n",
    "    dataset = dataset.batch(batch_size, drop_remainder=False)\n",
    "    iterator = dataset.make_initializable_iterator()\n",
    "    return iterator"
   ]
  },
  {
   "cell_type": "code",
   "execution_count": 133,
   "metadata": {},
   "outputs": [],
   "source": [
    "\n",
    "train_iterator = batch_iterator(TRAIN_FILE \n",
    "                                , batch_size=5\n",
    "                                , training=True, shuffle=False\n",
    "                                )\n",
    "\n",
    "test_iterator = batch_iterator(TEST_FILE \n",
    "                              , batch_size=5\n",
    "                              , training=False, shuffle=False\n",
    "                              )\n"
   ]
  },
  {
   "cell_type": "code",
   "execution_count": 85,
   "metadata": {},
   "outputs": [
    {
     "data": {
      "text/plain": [
       "0.7117304880715253"
      ]
     },
     "execution_count": 85,
     "metadata": {},
     "output_type": "execute_result"
    }
   ],
   "source": [
    "random.random()"
   ]
  },
  {
   "cell_type": "code",
   "execution_count": 134,
   "metadata": {},
   "outputs": [
    {
     "name": "stderr",
     "output_type": "stream",
     "text": [
      "Clipping input data to the valid range for imshow with RGB data ([0..1] for floats or [0..255] for integers).\n"
     ]
    },
    {
     "name": "stdout",
     "output_type": "stream",
     "text": [
      "(32, 32, 3)\n"
     ]
    },
    {
     "data": {
      "image/png": "[encoded data removed]",
      "text/plain": [
       "<Figure size 432x288 with 1 Axes>"
      ]
     },
     "metadata": {
      "needs_background": "light"
     },
     "output_type": "display_data"
    },
    {
     "name": "stdout",
     "output_type": "stream",
     "text": [
      "(32, 32, 3)\n"
     ]
    },
    {
     "name": "stderr",
     "output_type": "stream",
     "text": [
      "Clipping input data to the valid range for imshow with RGB data ([0..1] for floats or [0..255] for integers).\n"
     ]
    },
    {
     "data": {
      "image/png": "[encoded data removed]",
      "text/plain": [
       "<Figure size 432x288 with 1 Axes>"
      ]
     },
     "metadata": {
      "needs_background": "light"
     },
     "output_type": "display_data"
    },
    {
     "name": "stderr",
     "output_type": "stream",
     "text": [
      "Clipping input data to the valid range for imshow with RGB data ([0..1] for floats or [0..255] for integers).\n"
     ]
    },
    {
     "name": "stdout",
     "output_type": "stream",
     "text": [
      "(32, 32, 3)\n"
     ]
    },
    {
     "data": {
      "image/png": "[encoded data removed]",
      "text/plain": [
       "<Figure size 432x288 with 1 Axes>"
      ]
     },
     "metadata": {
      "needs_background": "light"
     },
     "output_type": "display_data"
    },
    {
     "name": "stderr",
     "output_type": "stream",
     "text": [
      "Clipping input data to the valid range for imshow with RGB data ([0..1] for floats or [0..255] for integers).\n"
     ]
    },
    {
     "name": "stdout",
     "output_type": "stream",
     "text": [
      "(32, 32, 3)\n"
     ]
    },
    {
     "data": {
      "image/png": "[encoded data removed]",
      "text/plain": [
       "<Figure size 432x288 with 1 Axes>"
      ]
     },
     "metadata": {
      "needs_background": "light"
     },
     "output_type": "display_data"
    },
    {
     "name": "stderr",
     "output_type": "stream",
     "text": [
      "Clipping input data to the valid range for imshow with RGB data ([0..1] for floats or [0..255] for integers).\n"
     ]
    },
    {
     "name": "stdout",
     "output_type": "stream",
     "text": [
      "(32, 32, 3)\n"
     ]
    },
    {
     "data": {
      "image/png": "[encoded data removed]",
      "text/plain": [
       "<Figure size 432x288 with 1 Axes>"
      ]
     },
     "metadata": {
      "needs_background": "light"
     },
     "output_type": "display_data"
    }
   ],
   "source": [
    "with tf.Session() as sess:\n",
    "    sess.run(tf.global_variables_initializer())\n",
    "    sess.run(train_iterator.initializer)\n",
    "    sess.run(test_iterator.initializer)\n",
    "    train_images_batch, train_labels_batch = train_iterator.get_next()\n",
    "#     train_images_batch = random_rotate(train_images_batch)\n",
    "    image , label = sess.run(\n",
    "                        [train_images_batch, train_labels_batch],\n",
    "                        feed_dict={rand_num: random.random()})\n",
    "#     image = random_image_shift(image)\n",
    "#     for i,img in enumerate(image):\n",
    "#         image[i] = random_image_shift(img)\n",
    "#         image[i] = random_rotate(img)\n",
    "    \n",
    "    for img in image:\n",
    "#         print(label[1])\n",
    "        print(img.shape)\n",
    "        plt.imshow(img)\n",
    "        plt.show()"
   ]
  },
  {
   "cell_type": "code",
   "execution_count": null,
   "metadata": {},
   "outputs": [],
   "source": []
  },
  {
   "cell_type": "code",
   "execution_count": 40,
   "metadata": {},
   "outputs": [],
   "source": [
    "from keras.datasets import cifar10\n",
    "(x_train, y_train), (x_test, y_test) = cifar10.load_data()"
   ]
  },
  {
   "cell_type": "code",
   "execution_count": 72,
   "metadata": {},
   "outputs": [
    {
     "data": {
      "text/plain": [
       "<matplotlib.image.AxesImage at 0x20e91486978>"
      ]
     },
     "execution_count": 72,
     "metadata": {},
     "output_type": "execute_result"
    },
    {
     "data": {
      "image/png": "[encoded data removed]",
      "text/plain": [
       "<Figure size 432x288 with 1 Axes>"
      ]
     },
     "metadata": {
      "needs_background": "light"
     },
     "output_type": "display_data"
    }
   ],
   "source": [
    "# img = x_test[0]\n",
    "img = x_test[0].astype('float32') / 255\n",
    "# print(img)\n",
    "plt.imshow(img)"
   ]
  }
 ],
 "metadata": {
  "kernelspec": {
   "display_name": "prac",
   "language": "python",
   "name": "prac"
  },
  "language_info": {
   "codemirror_mode": {
    "name": "ipython",
    "version": 3
   },
   "file_extension": ".py",
   "mimetype": "text/x-python",
   "name": "python",
   "nbconvert_exporter": "python",
   "pygments_lexer": "ipython3",
   "version": "3.6.8"
  }
 },
 "nbformat": 4,
 "nbformat_minor": 2
}
